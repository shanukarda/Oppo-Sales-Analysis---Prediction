{
 "cells": [
  {
   "cell_type": "markdown",
   "metadata": {},
   "source": [
    "# Sales Analysis & Prediction of Oppo Mobiles(Punjab)---2019(Q1)"
   ]
  },
  {
   "cell_type": "code",
   "execution_count": 1,
   "metadata": {},
   "outputs": [],
   "source": [
    "# Import required libraries\n",
    "import pandas as pd\n",
    "import numpy as np\n",
    "import seaborn as sns\n",
    "import matplotlib.pyplot as plt\n",
    "%matplotlib inline\n",
    "from sklearn.linear_model import LinearRegression\n",
    "import math"
   ]
  },
  {
   "cell_type": "code",
   "execution_count": 2,
   "metadata": {},
   "outputs": [
    {
     "data": {
      "text/html": [
       "<div>\n",
       "<style scoped>\n",
       "    .dataframe tbody tr th:only-of-type {\n",
       "        vertical-align: middle;\n",
       "    }\n",
       "\n",
       "    .dataframe tbody tr th {\n",
       "        vertical-align: top;\n",
       "    }\n",
       "\n",
       "    .dataframe thead th {\n",
       "        text-align: right;\n",
       "    }\n",
       "</style>\n",
       "<table border=\"1\" class=\"dataframe\">\n",
       "  <thead>\n",
       "    <tr style=\"text-align: right;\">\n",
       "      <th></th>\n",
       "      <th>S.No.</th>\n",
       "      <th>Model</th>\n",
       "      <th>Color</th>\n",
       "      <th>Model Price</th>\n",
       "      <th>IMEI</th>\n",
       "      <th>Activation Date</th>\n",
       "      <th>Sold Date</th>\n",
       "      <th>Reporter Name</th>\n",
       "      <th>E-Code</th>\n",
       "      <th>Department</th>\n",
       "      <th>...</th>\n",
       "      <th>Agent Name</th>\n",
       "      <th>District</th>\n",
       "      <th>City/Town</th>\n",
       "      <th>SE</th>\n",
       "      <th>SSE</th>\n",
       "      <th>TSM</th>\n",
       "      <th>ASM</th>\n",
       "      <th>ZSM</th>\n",
       "      <th>Count</th>\n",
       "      <th>Month</th>\n",
       "    </tr>\n",
       "  </thead>\n",
       "  <tbody>\n",
       "    <tr>\n",
       "      <th>0</th>\n",
       "      <td>1</td>\n",
       "      <td>R17PRO(CPH1877)</td>\n",
       "      <td>Radiant Mist</td>\n",
       "      <td>40000</td>\n",
       "      <td>8.610000e+14</td>\n",
       "      <td>1/30/2019</td>\n",
       "      <td>1/30/2019</td>\n",
       "      <td>SANJEEV KUMAR-5664 (LDH)</td>\n",
       "      <td>5664</td>\n",
       "      <td>Promoter/OSR</td>\n",
       "      <td>...</td>\n",
       "      <td>18-LDH(D)-BRISK COMMUNICATION- LUDHIANA</td>\n",
       "      <td>LUDHIANA</td>\n",
       "      <td>LUDHIANA</td>\n",
       "      <td>SE VINAY-315(LDH)</td>\n",
       "      <td>Vacant-LDH1</td>\n",
       "      <td>TSM HARSHDEEP KAPOOR</td>\n",
       "      <td>ASM MOHIT SHARMA</td>\n",
       "      <td>ZSM RAGHU SETHI</td>\n",
       "      <td>1</td>\n",
       "      <td>Jan'19</td>\n",
       "    </tr>\n",
       "    <tr>\n",
       "      <th>1</th>\n",
       "      <td>2</td>\n",
       "      <td>R17PRO(CPH1877)</td>\n",
       "      <td>Radiant Mist</td>\n",
       "      <td>40000</td>\n",
       "      <td>8.610000e+14</td>\n",
       "      <td>1/29/2019</td>\n",
       "      <td>1/29/2019</td>\n",
       "      <td>Mamta-HSPR</td>\n",
       "      <td>674</td>\n",
       "      <td>Promoter/OSR</td>\n",
       "      <td>...</td>\n",
       "      <td>16(A)-HSP-DEV MOBILES</td>\n",
       "      <td>HOSHIARPUR</td>\n",
       "      <td>KHUDDA</td>\n",
       "      <td>SE HSP GAGAN TAHIM</td>\n",
       "      <td>Vacant-HSP</td>\n",
       "      <td>VACANT-HSP</td>\n",
       "      <td>ASM NEERAJ</td>\n",
       "      <td>ZSM RAGHU SETHI</td>\n",
       "      <td>1</td>\n",
       "      <td>Jan'19</td>\n",
       "    </tr>\n",
       "    <tr>\n",
       "      <th>2</th>\n",
       "      <td>3</td>\n",
       "      <td>R17PRO(CPH1877)</td>\n",
       "      <td>Radiant Mist</td>\n",
       "      <td>40000</td>\n",
       "      <td>8.610000e+14</td>\n",
       "      <td>1/25/2019</td>\n",
       "      <td>1/25/2019</td>\n",
       "      <td>PARDEEP KUMAR-1036</td>\n",
       "      <td>1036</td>\n",
       "      <td>Promoter/OSR</td>\n",
       "      <td>...</td>\n",
       "      <td>20-KPT(B)-SAICOM MARKETING</td>\n",
       "      <td>KAPURTHALA</td>\n",
       "      <td>PHAGWADA</td>\n",
       "      <td>SSE SACHIN-3565(PHG)</td>\n",
       "      <td>SSE SACHIN-3565(PHG)</td>\n",
       "      <td>TSM KUMAR GAURAV</td>\n",
       "      <td>ASM AMIT SRIVASTAVA</td>\n",
       "      <td>ZSM RAGHU SETHI</td>\n",
       "      <td>1</td>\n",
       "      <td>Jan'19</td>\n",
       "    </tr>\n",
       "    <tr>\n",
       "      <th>3</th>\n",
       "      <td>4</td>\n",
       "      <td>R17PRO(CPH1877)</td>\n",
       "      <td>Radiant Mist</td>\n",
       "      <td>40000</td>\n",
       "      <td>8.610000e+14</td>\n",
       "      <td>1/22/2019</td>\n",
       "      <td>1/22/2019</td>\n",
       "      <td>GURPREET SINGH-3611(PTL)</td>\n",
       "      <td>3611</td>\n",
       "      <td>Promoter/OSR</td>\n",
       "      <td>...</td>\n",
       "      <td>09-PTL(A)-CHIRAG SALES PVT.LTD-PATIALA CITY</td>\n",
       "      <td>PATIALA</td>\n",
       "      <td>PATIALA</td>\n",
       "      <td>SE PTL HARPREET SINGH-4070</td>\n",
       "      <td>VACANT-PTL</td>\n",
       "      <td>TSM SHUSHANT-4178(PTL)</td>\n",
       "      <td>ASM GURMUKH</td>\n",
       "      <td>ERIC/AHMAD</td>\n",
       "      <td>1</td>\n",
       "      <td>Jan'19</td>\n",
       "    </tr>\n",
       "    <tr>\n",
       "      <th>4</th>\n",
       "      <td>5</td>\n",
       "      <td>R17PRO(CPH1877)</td>\n",
       "      <td>Radiant Mist</td>\n",
       "      <td>40000</td>\n",
       "      <td>8.610000e+14</td>\n",
       "      <td>1/5/2019</td>\n",
       "      <td>1/6/2019</td>\n",
       "      <td>RAJINDER KUMAR-1328</td>\n",
       "      <td>1328</td>\n",
       "      <td>Promoter/OSR</td>\n",
       "      <td>...</td>\n",
       "      <td>19-LDH(A)-ALLIED MARKETING-LUDHIANA</td>\n",
       "      <td>LUDHIANA</td>\n",
       "      <td>LUDHIANA</td>\n",
       "      <td>SE LDH DAVINDER SINGH</td>\n",
       "      <td>Vacant-LDH1</td>\n",
       "      <td>TSM HARSHDEEP KAPOOR</td>\n",
       "      <td>ASM MOHIT SHARMA</td>\n",
       "      <td>ZSM RAGHU SETHI</td>\n",
       "      <td>1</td>\n",
       "      <td>Jan'19</td>\n",
       "    </tr>\n",
       "  </tbody>\n",
       "</table>\n",
       "<p>5 rows × 24 columns</p>\n",
       "</div>"
      ],
      "text/plain": [
       "   S.No.            Model         Color  Model Price          IMEI  \\\n",
       "0      1  R17PRO(CPH1877)  Radiant Mist        40000  8.610000e+14   \n",
       "1      2  R17PRO(CPH1877)  Radiant Mist        40000  8.610000e+14   \n",
       "2      3  R17PRO(CPH1877)  Radiant Mist        40000  8.610000e+14   \n",
       "3      4  R17PRO(CPH1877)  Radiant Mist        40000  8.610000e+14   \n",
       "4      5  R17PRO(CPH1877)  Radiant Mist        40000  8.610000e+14   \n",
       "\n",
       "  Activation Date  Sold Date            Reporter Name  E-Code    Department  \\\n",
       "0       1/30/2019  1/30/2019  SANJEEV KUMAR-5664 (LDH)   5664  Promoter/OSR   \n",
       "1       1/29/2019  1/29/2019                Mamta-HSPR    674  Promoter/OSR   \n",
       "2       1/25/2019  1/25/2019        PARDEEP KUMAR-1036   1036  Promoter/OSR   \n",
       "3       1/22/2019  1/22/2019  GURPREET SINGH-3611(PTL)   3611  Promoter/OSR   \n",
       "4        1/5/2019   1/6/2019       RAJINDER KUMAR-1328   1328  Promoter/OSR   \n",
       "\n",
       "   ...                                   Agent Name    District City/Town  \\\n",
       "0  ...      18-LDH(D)-BRISK COMMUNICATION- LUDHIANA    LUDHIANA  LUDHIANA   \n",
       "1  ...                        16(A)-HSP-DEV MOBILES  HOSHIARPUR    KHUDDA   \n",
       "2  ...                   20-KPT(B)-SAICOM MARKETING  KAPURTHALA  PHAGWADA   \n",
       "3  ...  09-PTL(A)-CHIRAG SALES PVT.LTD-PATIALA CITY     PATIALA   PATIALA   \n",
       "4  ...          19-LDH(A)-ALLIED MARKETING-LUDHIANA    LUDHIANA  LUDHIANA   \n",
       "\n",
       "                           SE                   SSE                     TSM  \\\n",
       "0           SE VINAY-315(LDH)           Vacant-LDH1    TSM HARSHDEEP KAPOOR   \n",
       "1          SE HSP GAGAN TAHIM            Vacant-HSP              VACANT-HSP   \n",
       "2        SSE SACHIN-3565(PHG)  SSE SACHIN-3565(PHG)        TSM KUMAR GAURAV   \n",
       "3  SE PTL HARPREET SINGH-4070            VACANT-PTL  TSM SHUSHANT-4178(PTL)   \n",
       "4       SE LDH DAVINDER SINGH           Vacant-LDH1    TSM HARSHDEEP KAPOOR   \n",
       "\n",
       "                   ASM              ZSM Count   Month  \n",
       "0     ASM MOHIT SHARMA  ZSM RAGHU SETHI     1  Jan'19  \n",
       "1           ASM NEERAJ  ZSM RAGHU SETHI     1  Jan'19  \n",
       "2  ASM AMIT SRIVASTAVA  ZSM RAGHU SETHI     1  Jan'19  \n",
       "3          ASM GURMUKH       ERIC/AHMAD     1  Jan'19  \n",
       "4     ASM MOHIT SHARMA  ZSM RAGHU SETHI     1  Jan'19  \n",
       "\n",
       "[5 rows x 24 columns]"
      ]
     },
     "execution_count": 2,
     "metadata": {},
     "output_type": "execute_result"
    }
   ],
   "source": [
    "sales_data = pd.read_csv(\"SALES-DATA-JAN19-TO-MAR19.csv\",encoding = \"latin_1\")\n",
    "sales_data.head()"
   ]
  },
  {
   "cell_type": "code",
   "execution_count": 3,
   "metadata": {},
   "outputs": [
    {
     "data": {
      "text/plain": [
       "(145582, 24)"
      ]
     },
     "execution_count": 3,
     "metadata": {},
     "output_type": "execute_result"
    }
   ],
   "source": [
    "sales_data.shape"
   ]
  },
  {
   "cell_type": "code",
   "execution_count": 4,
   "metadata": {},
   "outputs": [
    {
     "name": "stdout",
     "output_type": "stream",
     "text": [
      "<class 'pandas.core.frame.DataFrame'>\n",
      "RangeIndex: 145582 entries, 0 to 145581\n",
      "Data columns (total 24 columns):\n",
      "S.No.              145582 non-null int64\n",
      "Model              145582 non-null object\n",
      "Color              145582 non-null object\n",
      "Model Price        145582 non-null int64\n",
      "IMEI               145582 non-null float64\n",
      "Activation Date    145582 non-null object\n",
      "Sold Date          145582 non-null object\n",
      "Reporter Name      145582 non-null object\n",
      "E-Code             145582 non-null object\n",
      "Department         145543 non-null object\n",
      "Shop Boy           34390 non-null object\n",
      "Dealer Name        145582 non-null object\n",
      "Dealer ID          145582 non-null object\n",
      "Dealer Status      145582 non-null object\n",
      "Agent Name         145582 non-null object\n",
      "District           145582 non-null object\n",
      "City/Town          145582 non-null object\n",
      "SE                 145572 non-null object\n",
      "SSE                145575 non-null object\n",
      "TSM                145582 non-null object\n",
      "ASM                145582 non-null object\n",
      "ZSM                145582 non-null object\n",
      "Count              145582 non-null int64\n",
      "Month              145582 non-null object\n",
      "dtypes: float64(1), int64(3), object(20)\n",
      "memory usage: 26.7+ MB\n"
     ]
    }
   ],
   "source": [
    "sales_data.info()"
   ]
  },
  {
   "cell_type": "code",
   "execution_count": 5,
   "metadata": {},
   "outputs": [
    {
     "data": {
      "text/html": [
       "<div>\n",
       "<style scoped>\n",
       "    .dataframe tbody tr th:only-of-type {\n",
       "        vertical-align: middle;\n",
       "    }\n",
       "\n",
       "    .dataframe tbody tr th {\n",
       "        vertical-align: top;\n",
       "    }\n",
       "\n",
       "    .dataframe thead th {\n",
       "        text-align: right;\n",
       "    }\n",
       "</style>\n",
       "<table border=\"1\" class=\"dataframe\">\n",
       "  <thead>\n",
       "    <tr style=\"text-align: right;\">\n",
       "      <th></th>\n",
       "      <th>S.No.</th>\n",
       "      <th>Model Price</th>\n",
       "      <th>IMEI</th>\n",
       "      <th>Count</th>\n",
       "    </tr>\n",
       "  </thead>\n",
       "  <tbody>\n",
       "    <tr>\n",
       "      <th>count</th>\n",
       "      <td>145582.000000</td>\n",
       "      <td>145582.000000</td>\n",
       "      <td>1.455820e+05</td>\n",
       "      <td>145582.0</td>\n",
       "    </tr>\n",
       "    <tr>\n",
       "      <th>mean</th>\n",
       "      <td>72791.500000</td>\n",
       "      <td>13053.938873</td>\n",
       "      <td>8.677459e+14</td>\n",
       "      <td>1.0</td>\n",
       "    </tr>\n",
       "    <tr>\n",
       "      <th>std</th>\n",
       "      <td>42026.047782</td>\n",
       "      <td>4332.131111</td>\n",
       "      <td>1.857296e+12</td>\n",
       "      <td>0.0</td>\n",
       "    </tr>\n",
       "    <tr>\n",
       "      <th>min</th>\n",
       "      <td>1.000000</td>\n",
       "      <td>7490.000000</td>\n",
       "      <td>8.600000e+14</td>\n",
       "      <td>1.0</td>\n",
       "    </tr>\n",
       "    <tr>\n",
       "      <th>25%</th>\n",
       "      <td>36396.250000</td>\n",
       "      <td>9990.000000</td>\n",
       "      <td>8.670000e+14</td>\n",
       "      <td>1.0</td>\n",
       "    </tr>\n",
       "    <tr>\n",
       "      <th>50%</th>\n",
       "      <td>72791.500000</td>\n",
       "      <td>10990.000000</td>\n",
       "      <td>8.690000e+14</td>\n",
       "      <td>1.0</td>\n",
       "    </tr>\n",
       "    <tr>\n",
       "      <th>75%</th>\n",
       "      <td>109186.750000</td>\n",
       "      <td>14000.000000</td>\n",
       "      <td>8.690000e+14</td>\n",
       "      <td>1.0</td>\n",
       "    </tr>\n",
       "    <tr>\n",
       "      <th>max</th>\n",
       "      <td>145582.000000</td>\n",
       "      <td>59990.000000</td>\n",
       "      <td>8.700000e+14</td>\n",
       "      <td>1.0</td>\n",
       "    </tr>\n",
       "  </tbody>\n",
       "</table>\n",
       "</div>"
      ],
      "text/plain": [
       "               S.No.    Model Price          IMEI     Count\n",
       "count  145582.000000  145582.000000  1.455820e+05  145582.0\n",
       "mean    72791.500000   13053.938873  8.677459e+14       1.0\n",
       "std     42026.047782    4332.131111  1.857296e+12       0.0\n",
       "min         1.000000    7490.000000  8.600000e+14       1.0\n",
       "25%     36396.250000    9990.000000  8.670000e+14       1.0\n",
       "50%     72791.500000   10990.000000  8.690000e+14       1.0\n",
       "75%    109186.750000   14000.000000  8.690000e+14       1.0\n",
       "max    145582.000000   59990.000000  8.700000e+14       1.0"
      ]
     },
     "execution_count": 5,
     "metadata": {},
     "output_type": "execute_result"
    }
   ],
   "source": [
    "sales_data.describe()"
   ]
  },
  {
   "cell_type": "code",
   "execution_count": 6,
   "metadata": {},
   "outputs": [
    {
     "data": {
      "text/plain": [
       "Index(['S.No.', 'Model', 'Color', 'Model Price', 'IMEI', 'Activation Date',\n",
       "       'Sold Date', 'Reporter Name ', 'E-Code', 'Department', 'Shop Boy',\n",
       "       'Dealer Name', 'Dealer ID', 'Dealer Status', 'Agent Name', 'District',\n",
       "       'City/Town', 'SE', 'SSE', 'TSM', 'ASM', 'ZSM', 'Count', 'Month'],\n",
       "      dtype='object')"
      ]
     },
     "execution_count": 6,
     "metadata": {},
     "output_type": "execute_result"
    }
   ],
   "source": [
    "sales_data.columns"
   ]
  },
  {
   "cell_type": "code",
   "execution_count": 7,
   "metadata": {},
   "outputs": [
    {
     "data": {
      "text/plain": [
       "S.No.                   0\n",
       "Model                   0\n",
       "Color                   0\n",
       "Model Price             0\n",
       "IMEI                    0\n",
       "Activation Date         0\n",
       "Sold Date               0\n",
       "Reporter Name           0\n",
       "E-Code                  0\n",
       "Department             39\n",
       "Shop Boy           111192\n",
       "Dealer Name             0\n",
       "Dealer ID               0\n",
       "Dealer Status           0\n",
       "Agent Name              0\n",
       "District                0\n",
       "City/Town               0\n",
       "SE                     10\n",
       "SSE                     7\n",
       "TSM                     0\n",
       "ASM                     0\n",
       "ZSM                     0\n",
       "Count                   0\n",
       "Month                   0\n",
       "dtype: int64"
      ]
     },
     "execution_count": 7,
     "metadata": {},
     "output_type": "execute_result"
    }
   ],
   "source": [
    "sales_data.isnull().sum()"
   ]
  },
  {
   "cell_type": "code",
   "execution_count": 8,
   "metadata": {},
   "outputs": [
    {
     "data": {
      "text/plain": [
       "<matplotlib.axes._subplots.AxesSubplot at 0x20a27544908>"
      ]
     },
     "execution_count": 8,
     "metadata": {},
     "output_type": "execute_result"
    },
    {
     "data": {
      "image/png": "[encoded data removed]",
      "text/plain": [
       "<Figure size 432x288 with 1 Axes>"
      ]
     },
     "metadata": {
      "needs_background": "light"
     },
     "output_type": "display_data"
    }
   ],
   "source": [
    "sns.heatmap(sales_data.isnull(),yticklabels=False,cbar=False)"
   ]
  },
  {
   "cell_type": "code",
   "execution_count": 9,
   "metadata": {},
   "outputs": [
    {
     "data": {
      "text/plain": [
       "array(['Promoter/OSR', 'Senior Sales Executive', 'Shop Boy',\n",
       "       'SE/TL/Sales man', 'Territory Sales Manager', 'Sales Manager', nan],\n",
       "      dtype=object)"
      ]
     },
     "execution_count": 9,
     "metadata": {},
     "output_type": "execute_result"
    }
   ],
   "source": [
    "# droping \"Shop Boy\" feature as most of the values are not there.\n",
    "sales_data.drop(\"Shop Boy\",axis = 1,inplace = True)\n",
    "\n",
    "# all departments\n",
    "sales_data.Department.unique()"
   ]
  },
  {
   "cell_type": "markdown",
   "metadata": {},
   "source": [
    "## handling missing values in \"Department\""
   ]
  },
  {
   "cell_type": "code",
   "execution_count": 10,
   "metadata": {},
   "outputs": [
    {
     "data": {
      "text/html": [
       "<div>\n",
       "<style scoped>\n",
       "    .dataframe tbody tr th:only-of-type {\n",
       "        vertical-align: middle;\n",
       "    }\n",
       "\n",
       "    .dataframe tbody tr th {\n",
       "        vertical-align: top;\n",
       "    }\n",
       "\n",
       "    .dataframe thead th {\n",
       "        text-align: right;\n",
       "    }\n",
       "</style>\n",
       "<table border=\"1\" class=\"dataframe\">\n",
       "  <thead>\n",
       "    <tr style=\"text-align: right;\">\n",
       "      <th></th>\n",
       "      <th>Department</th>\n",
       "      <th>Reporter Name</th>\n",
       "    </tr>\n",
       "  </thead>\n",
       "  <tbody>\n",
       "    <tr>\n",
       "      <th>0</th>\n",
       "      <td>Promoter/OSR</td>\n",
       "      <td>SANJEEV KUMAR-5664 (LDH)</td>\n",
       "    </tr>\n",
       "    <tr>\n",
       "      <th>1</th>\n",
       "      <td>Promoter/OSR</td>\n",
       "      <td>Mamta-HSPR</td>\n",
       "    </tr>\n",
       "    <tr>\n",
       "      <th>2</th>\n",
       "      <td>Promoter/OSR</td>\n",
       "      <td>PARDEEP KUMAR-1036</td>\n",
       "    </tr>\n",
       "    <tr>\n",
       "      <th>8</th>\n",
       "      <td>Senior Sales Executive</td>\n",
       "      <td>SSE GAGANDEEP-119(ABH)</td>\n",
       "    </tr>\n",
       "    <tr>\n",
       "      <th>12</th>\n",
       "      <td>Shop Boy</td>\n",
       "      <td>SB-SANJAY(LDH)</td>\n",
       "    </tr>\n",
       "    <tr>\n",
       "      <th>21</th>\n",
       "      <td>Shop Boy</td>\n",
       "      <td>SB-ANKUSH ARORA(MGA)</td>\n",
       "    </tr>\n",
       "    <tr>\n",
       "      <th>23</th>\n",
       "      <td>Shop Boy</td>\n",
       "      <td>SB-NITIKA GARG(BTI)</td>\n",
       "    </tr>\n",
       "    <tr>\n",
       "      <th>64</th>\n",
       "      <td>SE/TL/Sales man</td>\n",
       "      <td>SE LDH GOURAV SHARMA-3826</td>\n",
       "    </tr>\n",
       "    <tr>\n",
       "      <th>68</th>\n",
       "      <td>Territory Sales Manager</td>\n",
       "      <td>TSM SUSHLENDRA</td>\n",
       "    </tr>\n",
       "    <tr>\n",
       "      <th>73</th>\n",
       "      <td>Senior Sales Executive</td>\n",
       "      <td>SO LDH SANDEEP</td>\n",
       "    </tr>\n",
       "    <tr>\n",
       "      <th>83</th>\n",
       "      <td>Territory Sales Manager</td>\n",
       "      <td>TSM MHL MOHIT SHARMA-(5837)</td>\n",
       "    </tr>\n",
       "    <tr>\n",
       "      <th>88</th>\n",
       "      <td>Senior Sales Executive</td>\n",
       "      <td>SSE GAGANDEEP-119(ABH)</td>\n",
       "    </tr>\n",
       "    <tr>\n",
       "      <th>92</th>\n",
       "      <td>Territory Sales Manager</td>\n",
       "      <td>TSM SHUSHANT-4178(PTL)</td>\n",
       "    </tr>\n",
       "    <tr>\n",
       "      <th>96</th>\n",
       "      <td>Sales Manager</td>\n",
       "      <td>ASM MANIK GANDHI</td>\n",
       "    </tr>\n",
       "    <tr>\n",
       "      <th>155</th>\n",
       "      <td>SE/TL/Sales man</td>\n",
       "      <td>SE LDH GOURAV SHARMA-3826</td>\n",
       "    </tr>\n",
       "    <tr>\n",
       "      <th>174</th>\n",
       "      <td>Sales Manager</td>\n",
       "      <td>ASM NEERAJ</td>\n",
       "    </tr>\n",
       "    <tr>\n",
       "      <th>269</th>\n",
       "      <td>Sales Manager</td>\n",
       "      <td>ASM NEERAJ</td>\n",
       "    </tr>\n",
       "    <tr>\n",
       "      <th>1984</th>\n",
       "      <td>SE/TL/Sales man</td>\n",
       "      <td>SE LDH GOURAV SHARMA-3826</td>\n",
       "    </tr>\n",
       "    <tr>\n",
       "      <th>97241</th>\n",
       "      <td>NaN</td>\n",
       "      <td>SB-VARINDER SINGH(JLD)</td>\n",
       "    </tr>\n",
       "    <tr>\n",
       "      <th>99870</th>\n",
       "      <td>NaN</td>\n",
       "      <td>SB-VARINDER SINGH(JLD)</td>\n",
       "    </tr>\n",
       "    <tr>\n",
       "      <th>99877</th>\n",
       "      <td>NaN</td>\n",
       "      <td>SB-VARINDER SINGH(JLD)</td>\n",
       "    </tr>\n",
       "  </tbody>\n",
       "</table>\n",
       "</div>"
      ],
      "text/plain": [
       "                    Department                Reporter Name\n",
       "0                 Promoter/OSR     SANJEEV KUMAR-5664 (LDH)\n",
       "1                 Promoter/OSR                   Mamta-HSPR\n",
       "2                 Promoter/OSR           PARDEEP KUMAR-1036\n",
       "8       Senior Sales Executive       SSE GAGANDEEP-119(ABH)\n",
       "12                    Shop Boy               SB-SANJAY(LDH)\n",
       "21                    Shop Boy         SB-ANKUSH ARORA(MGA)\n",
       "23                    Shop Boy          SB-NITIKA GARG(BTI)\n",
       "64             SE/TL/Sales man    SE LDH GOURAV SHARMA-3826\n",
       "68     Territory Sales Manager               TSM SUSHLENDRA\n",
       "73      Senior Sales Executive               SO LDH SANDEEP\n",
       "83     Territory Sales Manager  TSM MHL MOHIT SHARMA-(5837)\n",
       "88      Senior Sales Executive       SSE GAGANDEEP-119(ABH)\n",
       "92     Territory Sales Manager       TSM SHUSHANT-4178(PTL)\n",
       "96               Sales Manager             ASM MANIK GANDHI\n",
       "155            SE/TL/Sales man    SE LDH GOURAV SHARMA-3826\n",
       "174              Sales Manager                   ASM NEERAJ\n",
       "269              Sales Manager                   ASM NEERAJ\n",
       "1984           SE/TL/Sales man    SE LDH GOURAV SHARMA-3826\n",
       "97241                      NaN       SB-VARINDER SINGH(JLD)\n",
       "99870                      NaN       SB-VARINDER SINGH(JLD)\n",
       "99877                      NaN       SB-VARINDER SINGH(JLD)"
      ]
     },
     "execution_count": 10,
     "metadata": {},
     "output_type": "execute_result"
    }
   ],
   "source": [
    "# to removing the extra space in column name.\n",
    "sales_data.rename(columns={\"Reporter Name \":\"Reporter Name\"},inplace=True)\n",
    "\n",
    "dept_reporter_name = sales_data[[\"Department\",\"Reporter Name\"]]\n",
    "dept_groups = dept_reporter_name.groupby(\"Department\")\n",
    "dept_groups.head(3)"
   ]
  },
  {
   "cell_type": "markdown",
   "metadata": {},
   "source": [
    "#### By looking at reporter name, last three NaN values belongs to Shop Boy \"Department\""
   ]
  },
  {
   "cell_type": "code",
   "execution_count": 11,
   "metadata": {},
   "outputs": [
    {
     "data": {
      "text/plain": [
       "97241      SB-VARINDER SINGH(JLD)\n",
       "99870      SB-VARINDER SINGH(JLD)\n",
       "99877      SB-VARINDER SINGH(JLD)\n",
       "99893         SB-SUNIL KUMAR(KPT)\n",
       "99939         SB-SUNIL KUMAR(KPT)\n",
       "107696     SB-VARINDER SINGH(JLD)\n",
       "109801     SB-VARINDER SINGH(JLD)\n",
       "115205    SB-GAGANDEEP KUMAR(FDK)\n",
       "118287     SB-VARINDER SINGH(JLD)\n",
       "121100    SB-GAGANDEEP KUMAR(FDK)\n",
       "121571     SB-VARINDER SINGH(JLD)\n",
       "125346    SB-GAGANDEEP KUMAR(FDK)\n",
       "128323    SB-GAGANDEEP KUMAR(FDK)\n",
       "128328     SB-VARINDER SINGH(JLD)\n",
       "134921    SB-GAGANDEEP KUMAR(FDK)\n",
       "135440    SB-GAGANDEEP KUMAR(FDK)\n",
       "135486     SB-VARINDER SINGH(JLD)\n",
       "135522        SB-SUNIL KUMAR(KPT)\n",
       "135639     SB-VARINDER SINGH(JLD)\n",
       "135826        SB-SUNIL KUMAR(KPT)\n",
       "135838        SB-SUNIL KUMAR(KPT)\n",
       "135888        SB-SUNIL KUMAR(KPT)\n",
       "135908    SB-GAGANDEEP KUMAR(FDK)\n",
       "137642        SB-SUNIL KUMAR(KPT)\n",
       "137999        SB-SUNIL KUMAR(KPT)\n",
       "138000        SB-SUNIL KUMAR(KPT)\n",
       "138021        SB-SUNIL KUMAR(KPT)\n",
       "138023        SB-SUNIL KUMAR(KPT)\n",
       "138049        SB-SUNIL KUMAR(KPT)\n",
       "138848        SB-SUNIL KUMAR(KPT)\n",
       "138849        SB-SUNIL KUMAR(KPT)\n",
       "140184        SB-SUNIL KUMAR(KPT)\n",
       "140187        SB-SUNIL KUMAR(KPT)\n",
       "140394        SB-SUNIL KUMAR(KPT)\n",
       "140629        SB-SUNIL KUMAR(KPT)\n",
       "140658        SB-SUNIL KUMAR(KPT)\n",
       "141170    SB-GAGANDEEP KUMAR(FDK)\n",
       "141188    SB-GAGANDEEP KUMAR(FDK)\n",
       "142082     SB-VARINDER SINGH(JLD)\n",
       "Name: Reporter Name, dtype: object"
      ]
     },
     "execution_count": 11,
     "metadata": {},
     "output_type": "execute_result"
    }
   ],
   "source": [
    "# checking all Reporter name where department is null.\n",
    "sales_data[sales_data.Department.isnull()][\"Reporter Name\"]"
   ]
  },
  {
   "cell_type": "markdown",
   "metadata": {},
   "source": [
    "#### All missing values belongs to Shop Boy Department"
   ]
  },
  {
   "cell_type": "code",
   "execution_count": 12,
   "metadata": {},
   "outputs": [
    {
     "data": {
      "text/plain": [
       "<matplotlib.axes._subplots.AxesSubplot at 0x20a27425f60>"
      ]
     },
     "execution_count": 12,
     "metadata": {},
     "output_type": "execute_result"
    },
    {
     "data": {
      "image/png": "[encoded data removed]",
      "text/plain": [
       "<Figure size 432x288 with 2 Axes>"
      ]
     },
     "metadata": {
      "needs_background": "light"
     },
     "output_type": "display_data"
    }
   ],
   "source": [
    "# replacing null values in Department with \"Shop Boy\" & filling SE & SSE null values\n",
    "sales_data.Department.replace(np.NaN,\"Shop Boy\",inplace = True)\n",
    "sns.heatmap(sales_data.isnull(),yticklabels=False,cmap=\"RdBu_r\")"
   ]
  },
  {
   "cell_type": "code",
   "execution_count": 13,
   "metadata": {},
   "outputs": [
    {
     "data": {
      "text/plain": [
       "S.No.              0\n",
       "Model              0\n",
       "Color              0\n",
       "Model Price        0\n",
       "IMEI               0\n",
       "Activation Date    0\n",
       "Sold Date          0\n",
       "Reporter Name      0\n",
       "E-Code             0\n",
       "Department         0\n",
       "Dealer Name        0\n",
       "Dealer ID          0\n",
       "Dealer Status      0\n",
       "Agent Name         0\n",
       "District           0\n",
       "City/Town          0\n",
       "SE                 1\n",
       "SSE                0\n",
       "TSM                0\n",
       "ASM                0\n",
       "ZSM                0\n",
       "Count              0\n",
       "Month              0\n",
       "dtype: int64"
      ]
     },
     "execution_count": 13,
     "metadata": {},
     "output_type": "execute_result"
    }
   ],
   "source": [
    "sales_data.fillna(method = 'bfill',axis = 0,inplace = True)\n",
    "sales_data.isnull().sum()"
   ]
  },
  {
   "cell_type": "code",
   "execution_count": 14,
   "metadata": {},
   "outputs": [
    {
     "data": {
      "text/html": [
       "<div>\n",
       "<style scoped>\n",
       "    .dataframe tbody tr th:only-of-type {\n",
       "        vertical-align: middle;\n",
       "    }\n",
       "\n",
       "    .dataframe tbody tr th {\n",
       "        vertical-align: top;\n",
       "    }\n",
       "\n",
       "    .dataframe thead th {\n",
       "        text-align: right;\n",
       "    }\n",
       "</style>\n",
       "<table border=\"1\" class=\"dataframe\">\n",
       "  <thead>\n",
       "    <tr style=\"text-align: right;\">\n",
       "      <th></th>\n",
       "      <th>S.No.</th>\n",
       "      <th>Model</th>\n",
       "      <th>Color</th>\n",
       "      <th>Model Price</th>\n",
       "      <th>IMEI</th>\n",
       "      <th>Activation Date</th>\n",
       "      <th>Sold Date</th>\n",
       "      <th>Reporter Name</th>\n",
       "      <th>E-Code</th>\n",
       "      <th>Department</th>\n",
       "      <th>...</th>\n",
       "      <th>Agent Name</th>\n",
       "      <th>District</th>\n",
       "      <th>City/Town</th>\n",
       "      <th>SE</th>\n",
       "      <th>SSE</th>\n",
       "      <th>TSM</th>\n",
       "      <th>ASM</th>\n",
       "      <th>ZSM</th>\n",
       "      <th>Count</th>\n",
       "      <th>Month</th>\n",
       "    </tr>\n",
       "  </thead>\n",
       "  <tbody>\n",
       "    <tr>\n",
       "      <th>145581</th>\n",
       "      <td>145582</td>\n",
       "      <td>A71K(CPH1801)</td>\n",
       "      <td>Blue</td>\n",
       "      <td>9990</td>\n",
       "      <td>8.700000e+14</td>\n",
       "      <td>3/9/2019</td>\n",
       "      <td>10/13/2018</td>\n",
       "      <td>DEEPAK-4952 (FZR)</td>\n",
       "      <td>4952</td>\n",
       "      <td>Promoter/OSR</td>\n",
       "      <td>...</td>\n",
       "      <td>04(B)-ABH-RAJAN ENTERPRISES- JALALABAD</td>\n",
       "      <td>ABOHAR</td>\n",
       "      <td>ABOHAR</td>\n",
       "      <td>NaN</td>\n",
       "      <td>VACANT-ABH</td>\n",
       "      <td>TSM GAGAN GARG</td>\n",
       "      <td>ASM PARAMJIT SINGH</td>\n",
       "      <td>ZSM BALJEET GHUMMAN</td>\n",
       "      <td>1</td>\n",
       "      <td>Mar'19</td>\n",
       "    </tr>\n",
       "  </tbody>\n",
       "</table>\n",
       "<p>1 rows × 23 columns</p>\n",
       "</div>"
      ],
      "text/plain": [
       "         S.No.          Model Color  Model Price          IMEI  \\\n",
       "145581  145582  A71K(CPH1801)  Blue         9990  8.700000e+14   \n",
       "\n",
       "       Activation Date   Sold Date      Reporter Name E-Code    Department  \\\n",
       "145581        3/9/2019  10/13/2018  DEEPAK-4952 (FZR)   4952  Promoter/OSR   \n",
       "\n",
       "        ...                              Agent Name District City/Town   SE  \\\n",
       "145581  ...  04(B)-ABH-RAJAN ENTERPRISES- JALALABAD   ABOHAR    ABOHAR  NaN   \n",
       "\n",
       "               SSE             TSM                 ASM                  ZSM  \\\n",
       "145581  VACANT-ABH  TSM GAGAN GARG  ASM PARAMJIT SINGH  ZSM BALJEET GHUMMAN   \n",
       "\n",
       "       Count   Month  \n",
       "145581     1  Mar'19  \n",
       "\n",
       "[1 rows x 23 columns]"
      ]
     },
     "execution_count": 14,
     "metadata": {},
     "output_type": "execute_result"
    }
   ],
   "source": [
    "sales_data[sales_data.SE.isnull()]"
   ]
  },
  {
   "cell_type": "code",
   "execution_count": 15,
   "metadata": {},
   "outputs": [
    {
     "data": {
      "text/plain": [
       "S.No.              0\n",
       "Model              0\n",
       "Color              0\n",
       "Model Price        0\n",
       "IMEI               0\n",
       "Activation Date    0\n",
       "Sold Date          0\n",
       "Reporter Name      0\n",
       "E-Code             0\n",
       "Department         0\n",
       "Dealer Name        0\n",
       "Dealer ID          0\n",
       "Dealer Status      0\n",
       "Agent Name         0\n",
       "District           0\n",
       "City/Town          0\n",
       "SE                 0\n",
       "SSE                0\n",
       "TSM                0\n",
       "ASM                0\n",
       "ZSM                0\n",
       "Count              0\n",
       "Month              0\n",
       "dtype: int64"
      ]
     },
     "execution_count": 15,
     "metadata": {},
     "output_type": "execute_result"
    }
   ],
   "source": [
    "sales_data.fillna(method = 'ffill',axis = 0,inplace = True)\n",
    "sales_data.isna().sum()"
   ]
  },
  {
   "cell_type": "markdown",
   "metadata": {},
   "source": [
    "# Monthly analysis & prediction"
   ]
  },
  {
   "cell_type": "code",
   "execution_count": 16,
   "metadata": {},
   "outputs": [
    {
     "name": "stdout",
     "output_type": "stream",
     "text": [
      "Monthly Sales Count:\n",
      "Jan'19: 52850 |Feb'19: 44125 |Mar'19: 48607\n",
      "\n",
      "Monthly Revenue(In Cr.):\n",
      "Jan'19: 66.96 |Feb'19: 55.82 |Mar'19: 67.26\n",
      "\n"
     ]
    },
    {
     "data": {
      "image/png": "[encoded data removed]",
      "text/plain": [
       "<Figure size 720x144 with 1 Axes>"
      ]
     },
     "metadata": {
      "needs_background": "light"
     },
     "output_type": "display_data"
    },
    {
     "data": {
      "image/png": "[encoded data removed]",
      "text/plain": [
       "<Figure size 720x144 with 1 Axes>"
      ]
     },
     "metadata": {
      "needs_background": "light"
     },
     "output_type": "display_data"
    }
   ],
   "source": [
    "# Starting with Monthly sales\n",
    "\n",
    "# getting monthly qty.\n",
    "monthly_sales_count = sales_data.groupby('Month')\n",
    "month_count = monthly_sales_count.count().iloc[:,0]\n",
    "months = pd.DataFrame({\"Mt\":[2,1,3]},index = month_count.index)\n",
    "months['Count'] = month_count\n",
    "months.sort_values(\"Mt\",axis=0,inplace = True)\n",
    "print(\"Monthly Sales Count:\\nJan'19: {} |Feb'19: {} |Mar'19: {}\\n\".format(months[\"Count\"][0],months[\"Count\"][1],months[\"Count\"][2]))\n",
    "\n",
    "# getting monthly volume (Revenue)\n",
    "monthly_sales_vol = pd.DataFrame({\"Mt\":[2,1,3]},index = month_count.index)\n",
    "vol_list = [float(\"%0.2f\" % (x/10000000)) for x in np.array(sales_data.groupby('Month').sum()[\"Model Price\"])]\n",
    "monthly_sales_vol[\"Revenue\"] = vol_list\n",
    "monthly_sales_vol.sort_values(\"Mt\",axis = 0,inplace=True)\n",
    "print(\"Monthly Revenue(In Cr.):\\nJan'19: {} |Feb'19: {} |Mar'19: {}\\n\".format(monthly_sales_vol[\"Revenue\"][0],monthly_sales_vol[\"Revenue\"][1],monthly_sales_vol[\"Revenue\"][2]))\n",
    "\n",
    "plt.figure(figsize=(10,2))\n",
    "plt.subplot(1,2,1)\n",
    "plt.bar(x = months.index,height = months['Count'])\n",
    "plt.xlabel('Month')\n",
    "plt.ylabel('Sales Count')\n",
    "plt.title(\"Monthly Sales Count\")\n",
    "\n",
    "plt.figure(figsize=(10,2))\n",
    "plt.subplot(1,2,2)\n",
    "plt.bar(x = monthly_sales_vol.index,height = monthly_sales_vol['Revenue'])\n",
    "plt.xlabel('Month')\n",
    "plt.ylabel('Revenue')\n",
    "plt.title(\"Monthly Revenue(In Cr.)\")\n",
    "plt.show()"
   ]
  },
  {
   "cell_type": "markdown",
   "metadata": {},
   "source": [
    "#### In Mar'19, Sales count is less but revenue is high."
   ]
  },
  {
   "cell_type": "code",
   "execution_count": 17,
   "metadata": {},
   "outputs": [
    {
     "name": "stdout",
     "output_type": "stream",
     "text": [
      "Count: \n",
      " Jan: 52850 |Feb: 44125 |Mar: 48607|Apr: 44284|May: 42162|Jun: 40041\n",
      "Revenue(Cr.): \n",
      " Jan: 66.96 |Feb: 55.82 |Mar: 67.26|Apr: 63.65|May: 63.8|Jun: 63.95\n"
     ]
    },
    {
     "data": {
      "image/png": "[encoded data removed]",
      "text/plain": [
       "<Figure size 720x144 with 1 Axes>"
      ]
     },
     "metadata": {
      "needs_background": "light"
     },
     "output_type": "display_data"
    },
    {
     "data": {
      "image/png": "[encoded data removed]",
      "text/plain": [
       "<Figure size 720x144 with 1 Axes>"
      ]
     },
     "metadata": {
      "needs_background": "light"
     },
     "output_type": "display_data"
    }
   ],
   "source": [
    "def lin_regr(x,y,pre):\n",
    "    lin_reg = LinearRegression()\n",
    "    lin_reg.fit(x,y)\n",
    "    prediction = lin_reg.predict([[pre]])\n",
    "    return float(\"%0.2f\" % prediction)\n",
    "\n",
    "new_months = list(months.index)\n",
    "new_months.extend([\"Apr'19\",\"May'19\",\"Jun'19\"])\n",
    "count_l = list(months.Count)\n",
    "revenue_l = list(monthly_sales_vol.Revenue)\n",
    "for i in range(4,7):\n",
    "    count_l.append(math.floor(lin_regr(months[['Mt']],months[['Count']],i)))\n",
    "    revenue_l.append(lin_regr(monthly_sales_vol[['Mt']],monthly_sales_vol[['Revenue']],i))\n",
    "print(\"Count: \\n Jan: {} |Feb: {} |Mar: {}|Apr: {}|May: {}|Jun: {}\".format(count_l[0],count_l[1],count_l[2],count_l[3],count_l[4],count_l[5]))\n",
    "print(\"Revenue(Cr.): \\n Jan: {} |Feb: {} |Mar: {}|Apr: {}|May: {}|Jun: {}\".format(revenue_l[0],revenue_l[1],revenue_l[2],revenue_l[3],revenue_l[4],revenue_l[5]))\n",
    "\n",
    "plt.figure(figsize=(10,2))\n",
    "plt.subplot(1,2,1)\n",
    "plt.bar(x = new_months,height = count_l,color = [\"blue\",\"blue\",\"blue\",\"red\",\"red\",\"red\"])\n",
    "plt.xlabel('Month')\n",
    "plt.ylabel('Sales Count')\n",
    "plt.title(\"Predicted Monthly Sales\")\n",
    "\n",
    "plt.figure(figsize=(10,2))\n",
    "plt.subplot(1,2,2)\n",
    "plt.bar(x = new_months,height = revenue_l,color = [\"blue\",\"blue\",\"blue\",\"red\",\"red\",\"red\"])\n",
    "plt.xlabel('Month')\n",
    "plt.ylabel('Revenue(Cr.)')\n",
    "plt.title(\"Predicted Monthly Revenue\")\n",
    "plt.show()"
   ]
  },
  {
   "cell_type": "code",
   "execution_count": 18,
   "metadata": {},
   "outputs": [],
   "source": [
    "# grouping model price into price range.\n",
    "price_range = []\n",
    "for i in sales_data[\"Model Price\"]:\n",
    "    if i<10000:\n",
    "        price_range.append(\"<10K\")\n",
    "    elif i>=10000 and i<15000:\n",
    "        price_range.append(\">10K and <15K\")\n",
    "    elif i>=15000 and i<20000:\n",
    "        price_range.append(\">15K and <20K\")\n",
    "    elif i>=20000 and i<25000:\n",
    "        price_range.append(\">20K and <25K\")\n",
    "    elif i>=25000 and i<30000:\n",
    "        price_range.append(\">25K and <30K\")\n",
    "    elif i>=30000 and i<35000:\n",
    "        price_range.append(\">30K and <35K\")\n",
    "    elif i>=35000 and i<40000:\n",
    "        price_range.append(\">35K and <40K\")\n",
    "    elif i>=40000 and i<45000:\n",
    "        price_range.append(\">40K and <45K\")\n",
    "    elif i>=45000 and i<50000:\n",
    "        price_range.append(\">45K and <50K\")\n",
    "    elif i>=50000:\n",
    "        price_range.append(\">50K\")\n",
    "    else:\n",
    "        price_range.append(\"NA\")\n",
    "    \n",
    "sales_data.insert(4,\"Price Range\",price_range)\n"
   ]
  },
  {
   "cell_type": "code",
   "execution_count": 19,
   "metadata": {},
   "outputs": [
    {
     "data": {
      "text/plain": [
       "Price Range\n",
       "<10K             41160\n",
       ">10K and <15K    80928\n",
       ">15K and <20K     8881\n",
       ">20K and <25K    14467\n",
       ">40K and <45K      138\n",
       ">50K                 8\n",
       "Name: Count, dtype: int64"
      ]
     },
     "execution_count": 19,
     "metadata": {},
     "output_type": "execute_result"
    }
   ],
   "source": [
    "price_range_contr = sales_data.pivot_table(index = \"Price Range\",aggfunc=\"count\")['Count']\n",
    "price_range_contr"
   ]
  },
  {
   "cell_type": "code",
   "execution_count": 20,
   "metadata": {},
   "outputs": [
    {
     "data": {
      "image/png": "[encoded data removed]",
      "text/plain": [
       "<Figure size 360x360 with 1 Axes>"
      ]
     },
     "metadata": {},
     "output_type": "display_data"
    }
   ],
   "source": [
    "plt.figure(figsize = (5,5))\n",
    "plt.pie(price_range_contr[0:],shadow=True,labels=price_range_contr.index,startangle=180,autopct='%1.1f%%',radius=1)\n",
    "plt.title(\"Price Range Contribution in Sales Count\",fontsize=20)\n",
    "plt.show()"
   ]
  },
  {
   "cell_type": "code",
   "execution_count": 21,
   "metadata": {},
   "outputs": [
    {
     "data": {
      "image/png": "[encoded data removed]",
      "text/plain": [
       "<Figure size 360x360 with 1 Axes>"
      ]
     },
     "metadata": {},
     "output_type": "display_data"
    }
   ],
   "source": [
    "rev_price_range = sales_data.pivot_table(index = \"Price Range\",aggfunc=\"sum\")[\"Model Price\"]\n",
    "plt.figure(figsize = (5,5))\n",
    "plt.pie(rev_price_range.iloc[0:],shadow=True,labels=rev_price_range.index,startangle=180,autopct='%1.1f%%',radius=1)\n",
    "plt.title(\"Price Range Contribution in Sales Revenue\",fontsize=20)\n",
    "plt.show()"
   ]
  },
  {
   "cell_type": "code",
   "execution_count": 22,
   "metadata": {},
   "outputs": [
    {
     "data": {
      "text/html": [
       "<div>\n",
       "<style scoped>\n",
       "    .dataframe tbody tr th:only-of-type {\n",
       "        vertical-align: middle;\n",
       "    }\n",
       "\n",
       "    .dataframe tbody tr th {\n",
       "        vertical-align: top;\n",
       "    }\n",
       "\n",
       "    .dataframe thead th {\n",
       "        text-align: right;\n",
       "    }\n",
       "</style>\n",
       "<table border=\"1\" class=\"dataframe\">\n",
       "  <thead>\n",
       "    <tr style=\"text-align: right;\">\n",
       "      <th>Month</th>\n",
       "      <th>Feb'19</th>\n",
       "      <th>Jan'19</th>\n",
       "      <th>Mar'19</th>\n",
       "    </tr>\n",
       "    <tr>\n",
       "      <th>Price Range</th>\n",
       "      <th></th>\n",
       "      <th></th>\n",
       "      <th></th>\n",
       "    </tr>\n",
       "  </thead>\n",
       "  <tbody>\n",
       "    <tr>\n",
       "      <th>&lt;10K</th>\n",
       "      <td>14140.0</td>\n",
       "      <td>13300.0</td>\n",
       "      <td>13720.0</td>\n",
       "    </tr>\n",
       "    <tr>\n",
       "      <th>&gt;10K and &lt;15K</th>\n",
       "      <td>24534.0</td>\n",
       "      <td>30747.0</td>\n",
       "      <td>25647.0</td>\n",
       "    </tr>\n",
       "    <tr>\n",
       "      <th>&gt;15K and &lt;20K</th>\n",
       "      <td>2305.0</td>\n",
       "      <td>4719.0</td>\n",
       "      <td>1857.0</td>\n",
       "    </tr>\n",
       "    <tr>\n",
       "      <th>&gt;20K and &lt;25K</th>\n",
       "      <td>3095.0</td>\n",
       "      <td>4013.0</td>\n",
       "      <td>7359.0</td>\n",
       "    </tr>\n",
       "    <tr>\n",
       "      <th>&gt;40K and &lt;45K</th>\n",
       "      <td>50.0</td>\n",
       "      <td>64.0</td>\n",
       "      <td>24.0</td>\n",
       "    </tr>\n",
       "    <tr>\n",
       "      <th>&gt;50K</th>\n",
       "      <td>1.0</td>\n",
       "      <td>7.0</td>\n",
       "      <td>NaN</td>\n",
       "    </tr>\n",
       "  </tbody>\n",
       "</table>\n",
       "</div>"
      ],
      "text/plain": [
       "Month           Feb'19   Jan'19   Mar'19\n",
       "Price Range                             \n",
       "<10K           14140.0  13300.0  13720.0\n",
       ">10K and <15K  24534.0  30747.0  25647.0\n",
       ">15K and <20K   2305.0   4719.0   1857.0\n",
       ">20K and <25K   3095.0   4013.0   7359.0\n",
       ">40K and <45K     50.0     64.0     24.0\n",
       ">50K               1.0      7.0      NaN"
      ]
     },
     "execution_count": 22,
     "metadata": {},
     "output_type": "execute_result"
    }
   ],
   "source": [
    "monthly_SalesCount_PR = sales_data.pivot_table(index = \"Price Range\",columns=\"Month\",aggfunc=\"count\")[\"Count\"]\n",
    "monthly_SalesCount_PR"
   ]
  },
  {
   "cell_type": "code",
   "execution_count": 23,
   "metadata": {},
   "outputs": [
    {
     "data": {
      "text/html": [
       "<div>\n",
       "<style scoped>\n",
       "    .dataframe tbody tr th:only-of-type {\n",
       "        vertical-align: middle;\n",
       "    }\n",
       "\n",
       "    .dataframe tbody tr th {\n",
       "        vertical-align: top;\n",
       "    }\n",
       "\n",
       "    .dataframe thead th {\n",
       "        text-align: right;\n",
       "    }\n",
       "</style>\n",
       "<table border=\"1\" class=\"dataframe\">\n",
       "  <thead>\n",
       "    <tr style=\"text-align: right;\">\n",
       "      <th>Price Range</th>\n",
       "      <th>Mt</th>\n",
       "      <th>&lt;10K</th>\n",
       "      <th>&gt;10K and &lt;15K</th>\n",
       "      <th>&gt;15K and &lt;20K</th>\n",
       "      <th>&gt;20K and &lt;25K</th>\n",
       "      <th>&gt;40K and &lt;45K</th>\n",
       "      <th>&gt;50K</th>\n",
       "      <th>Total Revenue</th>\n",
       "    </tr>\n",
       "    <tr>\n",
       "      <th>Month</th>\n",
       "      <th></th>\n",
       "      <th></th>\n",
       "      <th></th>\n",
       "      <th></th>\n",
       "      <th></th>\n",
       "      <th></th>\n",
       "      <th></th>\n",
       "      <th></th>\n",
       "    </tr>\n",
       "  </thead>\n",
       "  <tbody>\n",
       "    <tr>\n",
       "      <th>Jan'19</th>\n",
       "      <td>1</td>\n",
       "      <td>13300.0</td>\n",
       "      <td>30747.0</td>\n",
       "      <td>4719.0</td>\n",
       "      <td>4013.0</td>\n",
       "      <td>64.0</td>\n",
       "      <td>7.0</td>\n",
       "      <td>669570605</td>\n",
       "    </tr>\n",
       "    <tr>\n",
       "      <th>Feb'19</th>\n",
       "      <td>2</td>\n",
       "      <td>14140.0</td>\n",
       "      <td>24534.0</td>\n",
       "      <td>2305.0</td>\n",
       "      <td>3095.0</td>\n",
       "      <td>50.0</td>\n",
       "      <td>1.0</td>\n",
       "      <td>558240468</td>\n",
       "    </tr>\n",
       "    <tr>\n",
       "      <th>Mar'19</th>\n",
       "      <td>3</td>\n",
       "      <td>13720.0</td>\n",
       "      <td>25647.0</td>\n",
       "      <td>1857.0</td>\n",
       "      <td>7359.0</td>\n",
       "      <td>24.0</td>\n",
       "      <td>0.0</td>\n",
       "      <td>672607456</td>\n",
       "    </tr>\n",
       "  </tbody>\n",
       "</table>\n",
       "</div>"
      ],
      "text/plain": [
       "Price Range  Mt     <10K  >10K and <15K  >15K and <20K  >20K and <25K  \\\n",
       "Month                                                                   \n",
       "Jan'19        1  13300.0        30747.0         4719.0         4013.0   \n",
       "Feb'19        2  14140.0        24534.0         2305.0         3095.0   \n",
       "Mar'19        3  13720.0        25647.0         1857.0         7359.0   \n",
       "\n",
       "Price Range  >40K and <45K  >50K  Total Revenue  \n",
       "Month                                            \n",
       "Jan'19                64.0   7.0      669570605  \n",
       "Feb'19                50.0   1.0      558240468  \n",
       "Mar'19                24.0   0.0      672607456  "
      ]
     },
     "execution_count": 23,
     "metadata": {},
     "output_type": "execute_result"
    }
   ],
   "source": [
    "monthly_Rev_PR = sales_data.pivot_table(index = \"Month\",aggfunc=\"sum\")[\"Model Price\"]\n",
    "final_data = monthly_SalesCount_PR.transpose()\n",
    "final_data.fillna(0,inplace=True)\n",
    "final_data[\"Total Revenue\"] = monthly_Rev_PR\n",
    "final_data.insert(0,\"Mt\",[2,1,3])\n",
    "final_data.sort_values(\"Mt\",axis = 0,inplace = True)\n",
    "final_data"
   ]
  },
  {
   "cell_type": "code",
   "execution_count": 24,
   "metadata": {},
   "outputs": [],
   "source": [
    "X = final_data.iloc[:,:-1].values\n",
    "Y = final_data.iloc[:,-1:].values"
   ]
  },
  {
   "cell_type": "code",
   "execution_count": 25,
   "metadata": {},
   "outputs": [
    {
     "data": {
      "text/plain": [
       "LinearRegression(copy_X=True, fit_intercept=True, n_jobs=None,\n",
       "         normalize=False)"
      ]
     },
     "execution_count": 25,
     "metadata": {},
     "output_type": "execute_result"
    }
   ],
   "source": [
    "month_lin_reg = LinearRegression()\n",
    "month_lin_reg.fit(X,Y)"
   ]
  },
  {
   "cell_type": "code",
   "execution_count": 26,
   "metadata": {},
   "outputs": [
    {
     "name": "stdout",
     "output_type": "stream",
     "text": [
      "Enter Month (1 to 12):5\n",
      "Enter projected model count for the month(Below 10K)12900\n",
      "Enter projected model count for the month(Between 10K and 15K)30450\n",
      "Enter projected model count for the month(Between 15K and 20K)4500\n",
      "Enter projected model count for the month(Between 20K and 25K)4600\n",
      "Enter projected model count for the month(Between 40K and 45K)67\n",
      "Enter projected model count for the month(Above 50K)7\n",
      "Predicted Revenue for May'19 month is 68.01 Cr.\n"
     ]
    }
   ],
   "source": [
    "dict_month = dict({1:\"Jan'19\",2:\"Feb'19\",3:\"Mar'19\",4:\"Apr'19\",5:\"May'19\",6:\"Jun'19\",7:\"Jul'19\",8:\"Aug'19\",9:\"Sep'19\",10:\"Oct'19\",11:\"Nov'19\",12:\"Dec'19\"})\n",
    "enter = \"Enter projected model count for the month\"\n",
    "check = True\n",
    "while check:\n",
    "    try:\n",
    "        mt = int(input(\"Enter Month (1 to 12):\"))\n",
    "        if mt > 12:\n",
    "            raise Exception()\n",
    "        Below_10K = int(input(enter+\"(Below 10K)\"))\n",
    "        Bw_10K_15K = int(input(enter+\"(Between 10K and 15K)\"))\n",
    "        Bw_15K_20K = int(input(enter+\"(Between 15K and 20K)\"))\n",
    "        Bw_20K_25K = int(input(enter+\"(Between 20K and 25K)\"))\n",
    "        Bw_40K_45K = int(input(enter+\"(Between 40K and 45K)\"))\n",
    "        Above_50K = int(input(enter+\"(Above 50K)\"))\n",
    "        temp_l = [mt,Below_10K,Bw_10K_15K,Bw_15K_20K,Bw_20K_25K,Bw_40K_45K,Above_50K]\n",
    "        check = False\n",
    "    except:\n",
    "        print(\"Invalid Input! Please enter only numeric values...\")\n",
    "print(\"Predicted Revenue for {} month is {} Cr.\".format(dict_month[(temp_l[0])],\"%0.2f\"%(month_lin_reg.predict([temp_l])/10000000)))"
   ]
  }
 ],
 "metadata": {
  "kernelspec": {
   "display_name": "Python 3",
   "language": "python",
   "name": "python3"
  },
  "language_info": {
   "codemirror_mode": {
    "name": "ipython",
    "version": 3
   },
   "file_extension": ".py",
   "mimetype": "text/x-python",
   "name": "python",
   "nbconvert_exporter": "python",
   "pygments_lexer": "ipython3",
   "version": "3.7.3"
  }
 },
 "nbformat": 4,
 "nbformat_minor": 2
}
